{
 "cells": [
  {
   "cell_type": "code",
   "execution_count": 3,
   "metadata": {},
   "outputs": [],
   "source": [
    "from datascience import *\n",
    "import numpy as np\n",
    "from math import *"
   ]
  },
  {
   "cell_type": "markdown",
   "metadata": {},
   "source": [
    "## Joint Distributions"
   ]
  },
  {
   "cell_type": "markdown",
   "metadata": {},
   "source": [
    "Recall from Lessons 13 & 14: let $X$ be a random variable. $X$ has a distribution that is described by a probability mass function (pmf) or probability density function (pdf). \n",
    "\n",
    "We can consider multiple random variables simultaneously using joint distributions. \n",
    "\n",
    "NOTE: When answering the questions below, you are not required to use Python. If you would like to answer in Markdown, feel free to change the type of the cell, or to use both types of cells. "
   ]
  },
  {
   "cell_type": "markdown",
   "metadata": {},
   "source": [
    "#### Example 1: Discrete Joint Distribution"
   ]
  },
  {
   "cell_type": "markdown",
   "metadata": {},
   "source": [
    "Let $X$ and $Y$ be discrete random variables that can each only take the values 1, 2 or 3, and do so according to the following distribution:"
   ]
  },
  {
   "cell_type": "markdown",
   "metadata": {},
   "source": [
    "\n",
    " |  | $X$  | 1 | 2 | 3 |\n",
    " |-- | ------ | ------ |\n",
    " |  | 1 | 0.17 | 0.15 | 0.08 |\n",
    " | $Y$ | 2 | 0.00 | 0.10 | 0.10 |\n",
    " |  | 3 | 0.08 | 0.20 | 0.12 |\n",
    " \n"
   ]
  },
  {
   "cell_type": "markdown",
   "metadata": {},
   "source": [
    "This is an example of a joint probability mass function (joint pmf), and is denoted as $f_{X,Y}(x,y)$. \n",
    "\n",
    "For example, the probability that $X$ takes the value 1 AND $Y$ takes the value 3, or $P(X=1,Y=3)$ is equal to 0.08. "
   ]
  },
  {
   "cell_type": "markdown",
   "metadata": {},
   "source": [
    "**_1.1_** Find $P(X = 2,Y=3)$. \n",
    "\n",
    "**_1.2_** Find $E(X+Y)$. "
   ]
  },
  {
   "cell_type": "markdown",
   "metadata": {},
   "source": [
    "1.1- 0.20"
   ]
  },
  {
   "cell_type": "code",
   "execution_count": 4,
   "metadata": {},
   "outputs": [
    {
     "name": "stdout",
     "output_type": "stream",
     "text": [
      "1.2- 4.05\n"
     ]
    }
   ],
   "source": [
    "sum_mean = 2*0.17 + 3*0.15 + 4*(0.26) + 5*(0.3) + 6*0.12\n",
    "print('1.2- ' + str(sum_mean))"
   ]
  },
  {
   "cell_type": "markdown",
   "metadata": {},
   "source": [
    "### Marginal Probability"
   ]
  },
  {
   "cell_type": "markdown",
   "metadata": {},
   "source": [
    "When given a joint pmf like this, we may want to know the distribution of $X$ or $Y$ individually. Specifically, we might want to know $P(X=1)$ or $f_Y(y)$. \n",
    "\n",
    "Marginal probability can be found by summing across the remaining variable. Specifically,\n",
    "\n",
    "$$\n",
    "f_X(x)=\\sum_y f_{X,Y}(x,y)\n",
    "$$\n",
    "and \n",
    "$$\n",
    "f_Y(y)=\\sum_x f_{X,Y}(x,y)\n",
    "$$\n"
   ]
  },
  {
   "cell_type": "markdown",
   "metadata": {},
   "source": [
    "**_1.3_** Find $P(X=2)$. \n",
    "\n",
    "**_1.4_** Find $f_Y(y)$ (the marginal pmf of $Y$). \n",
    "\n",
    "**_1.5_** Find $E(Y)$ and $V(Y)$. "
   ]
  },
  {
   "cell_type": "markdown",
   "metadata": {},
   "source": [
    "1.3- 0.45"
   ]
  },
  {
   "cell_type": "code",
   "execution_count": 5,
   "metadata": {
    "scrolled": true
   },
   "outputs": [
    {
     "data": {
      "text/html": [
       "<table border=\"1\" class=\"dataframe\">\n",
       "    <thead>\n",
       "        <tr>\n",
       "            <th>Y Values</th> <th>Marginal Probability</th>\n",
       "        </tr>\n",
       "    </thead>\n",
       "    <tbody>\n",
       "        <tr>\n",
       "            <td>1       </td> <td>0.4                 </td>\n",
       "        </tr>\n",
       "        <tr>\n",
       "            <td>2       </td> <td>0.2                 </td>\n",
       "        </tr>\n",
       "        <tr>\n",
       "            <td>3       </td> <td>0.4                 </td>\n",
       "        </tr>\n",
       "    </tbody>\n",
       "</table>"
      ],
      "text/plain": [
       "Y Values | Marginal Probability\n",
       "1        | 0.4\n",
       "2        | 0.2\n",
       "3        | 0.4"
      ]
     },
     "execution_count": 5,
     "metadata": {},
     "output_type": "execute_result"
    }
   ],
   "source": [
    "poss_y_vals = make_array(1,2,3)\n",
    "Y_probs = make_array(0.4, 0.2, 0.4)\n",
    "marg_y = Table().with_columns('Y Values', poss_y_vals, 'Marginal Probability', Y_probs)\n",
    "marg_y"
   ]
  },
  {
   "cell_type": "code",
   "execution_count": 6,
   "metadata": {},
   "outputs": [
    {
     "name": "stdout",
     "output_type": "stream",
     "text": [
      "1.5 - E(Y)= 2.0 and V(Y)= 0.5199999999999998\n"
     ]
    }
   ],
   "source": [
    "Ey = 1*0.4 + 2*0.2 + 3*0.4\n",
    "Vy = (1 - 1*0.4)**2 + (1-2*0.2)**2 + (1-3*0.4)\n",
    "print('1.5 - E(Y)= ' + str(Ey) + ' and V(Y)= ' + str(Vy))"
   ]
  },
  {
   "cell_type": "markdown",
   "metadata": {},
   "source": [
    "### Conditional Probability\n",
    "\n",
    "We may be interested in the probability $X$ takes a specific value conditioned on the value of $Y$. Recall that conditional probability is given by $P(A|B)=\\frac{P(A,B)}{P(B)}$. \n",
    "\n",
    "So, essentially, conditional probability can be found by dividing the joint probability by the appropriate marginal probability. "
   ]
  },
  {
   "cell_type": "markdown",
   "metadata": {},
   "source": [
    "**_1.6_** Find $P(Y=1|X=3)$. \n",
    "\n",
    "**_1.7_** Find $f_{X|Y=2}(x)$, the conditional pmf of $X$, given $Y=2$. \n",
    "\n",
    "**_1.8_** Find $E(X|Y=2)$ and $V(X|Y=2)$. "
   ]
  },
  {
   "cell_type": "markdown",
   "metadata": {
    "scrolled": true
   },
   "source": [
    "1.6 - 0.08/0.3 = 0.267"
   ]
  },
  {
   "cell_type": "markdown",
   "metadata": {},
   "source": [
    "1.7 - 0.2/0.2 = 1"
   ]
  },
  {
   "cell_type": "code",
   "execution_count": 7,
   "metadata": {},
   "outputs": [
    {
     "name": "stdout",
     "output_type": "stream",
     "text": [
      "1.8- E(X,Y=2)= 0.9 and V(X,Y=2)= 1.6099999999999999\n"
     ]
    }
   ],
   "source": [
    "Exy = 3*0 + 4*0.1 + 5*0.1\n",
    "Vxy = (1-0)**2 + (1 - .4)**2 + (1-0.5)**2\n",
    "print('1.8- E(X,Y=2)= ' + str(Exy) + ' and V(X,Y=2)= ' + str(Vxy))"
   ]
  },
  {
   "cell_type": "markdown",
   "metadata": {},
   "source": [
    "**_1.9_** Are $X$ and $Y$ independent? Why or why not? "
   ]
  },
  {
   "cell_type": "markdown",
   "metadata": {},
   "source": [
    "No, they are not independent, because the possibilities of each combination are not equal. The odds change with each combination, suggesting some correlation."
   ]
  },
  {
   "cell_type": "markdown",
   "metadata": {},
   "source": [
    "### Covariance and Correlation\n",
    "\n",
    "Expected value and variance help us characterize $X$ and $Y$ marginally and conditionally, but we may also be interested in measuring the relationship between $X$ and $Y$. For this, we use *covariance*. \n",
    "\n",
    "$$\n",
    "Cov(X,Y)=E[(X-E(X))(Y-E(Y))] = E(XY)-E(X)E(Y)\n",
    "$$\n",
    "\n",
    "Note that if $X$ and $Y$ are independent, $Cov(X,Y) =0$. The converse is NOT necessarily true. \n",
    "\n",
    "Covariance is dependent on the scales of $X$ and $Y$, so if the two variables are of vastly different scale, we'll want to use covariance's unitless counterpart, correlation, denoted by $\\rho$. \n",
    "\n",
    "$$\n",
    "\\rho = \\frac{Cov(X,Y)}{\\sqrt{Var(X)Var(Y)}}\n",
    "$$\n",
    "\n",
    "$\\rho$ is bounded by the interval $[-1,1]$. When $\\rho=1$, $X$ and $Y$ are perfectly positively correlated. Similarly, when $\\rho=-1$, $X$ and $Y$ are perfectly negatively correlated. "
   ]
  },
  {
   "cell_type": "markdown",
   "metadata": {},
   "source": [
    "**_1.10_** Find $Cov(X,Y)$\n",
    "\n",
    "**_1.11_** Find $Corr(X,Y)$, or $\\rho$. "
   ]
  },
  {
   "cell_type": "code",
   "execution_count": 8,
   "metadata": {},
   "outputs": [
    {
     "data": {
      "text/html": [
       "<table border=\"1\" class=\"dataframe\">\n",
       "    <thead>\n",
       "        <tr>\n",
       "            <th>X Vals</th> <th>P(X)</th>\n",
       "        </tr>\n",
       "    </thead>\n",
       "    <tbody>\n",
       "        <tr>\n",
       "            <td>1     </td> <td>0.25</td>\n",
       "        </tr>\n",
       "        <tr>\n",
       "            <td>2     </td> <td>0.4 </td>\n",
       "        </tr>\n",
       "        <tr>\n",
       "            <td>3     </td> <td>0.3 </td>\n",
       "        </tr>\n",
       "    </tbody>\n",
       "</table>"
      ],
      "text/plain": [
       "<IPython.core.display.HTML object>"
      ]
     },
     "metadata": {},
     "output_type": "display_data"
    },
    {
     "data": {
      "text/html": [
       "<table border=\"1\" class=\"dataframe\">\n",
       "    <thead>\n",
       "        <tr>\n",
       "            <th>Y Vals</th> <th>P(Y)</th>\n",
       "        </tr>\n",
       "    </thead>\n",
       "    <tbody>\n",
       "        <tr>\n",
       "            <td>1     </td> <td>0.4 </td>\n",
       "        </tr>\n",
       "        <tr>\n",
       "            <td>2     </td> <td>0.2 </td>\n",
       "        </tr>\n",
       "        <tr>\n",
       "            <td>3     </td> <td>0.4 </td>\n",
       "        </tr>\n",
       "    </tbody>\n",
       "</table>"
      ],
      "text/plain": [
       "<IPython.core.display.HTML object>"
      ]
     },
     "metadata": {},
     "output_type": "display_data"
    }
   ],
   "source": [
    "x_margs = Table().with_columns(\"X Vals\", np.arange(1,4), 'P(X)', make_array(0.25,0.4,0.3))\n",
    "y_margs = Table().with_columns('Y Vals', np.arange(1,4), 'P(Y)', make_array(0.4,0.2,0.4))\n",
    "x_margs.show()\n",
    "y_margs.show()"
   ]
  },
  {
   "cell_type": "code",
   "execution_count": 11,
   "metadata": {},
   "outputs": [
    {
     "data": {
      "text/plain": [
       "0.3300000000000005"
      ]
     },
     "execution_count": 11,
     "metadata": {},
     "output_type": "execute_result"
    }
   ],
   "source": [
    "# Cov = E(XY) - E(X)*E(Y)\n",
    "Exy = 1*0.17 + 2*0.15 + 3*(0.08+0.08) + 4*0.1 + 6*(0.1+0.2) + 9*0.12\n",
    "Ex = sum(x_margs.column('X Vals')*x_margs.column('P(X)'))\n",
    "Ey = sum(y_margs.column('Y Vals')*y_margs.column('P(Y)'))\n",
    "\n",
    "cov = Exy - Ex*Ey\n",
    "cov"
   ]
  },
  {
   "cell_type": "code",
   "execution_count": 15,
   "metadata": {},
   "outputs": [
    {
     "data": {
      "text/plain": [
       "0.49419142302604796"
      ]
     },
     "execution_count": 15,
     "metadata": {},
     "output_type": "execute_result"
    }
   ],
   "source": [
    "#Cor = cov/(Vx*Vy)^0.5\n",
    "Vx = sum((x_margs.column(0) - Ex)**2 * x_margs.column(1))\n",
    "Vy = sum((y_margs.column(0) - Ey)**2 * y_margs.column(1))\n",
    "\n",
    "cor = cov/((Vx*Vy)**0.5)\n",
    "cor"
   ]
  },
  {
   "cell_type": "markdown",
   "metadata": {},
   "source": [
    "In problem 1.2, we found $E(X+Y)$. In order to find $Var(X+Y)$, we need to know how $X$ and $Y$ are correlated: \n",
    "\n",
    "$$\n",
    "Var(X+Y)= Var(X)+Var(Y)+2*Cov(X,Y)\n",
    "$$"
   ]
  },
  {
   "cell_type": "markdown",
   "metadata": {},
   "source": [
    "**_1.12_** Find $Var(X+Y)$. "
   ]
  },
  {
   "cell_type": "code",
   "execution_count": 16,
   "metadata": {},
   "outputs": [
    {
     "data": {
      "text/plain": [
       "2.0173750000000013"
      ]
     },
     "execution_count": 16,
     "metadata": {},
     "output_type": "execute_result"
    }
   ],
   "source": [
    "Vx + Vy + 2*cov"
   ]
  },
  {
   "cell_type": "markdown",
   "metadata": {},
   "source": [
    "#### Example 2: Continuous Joint Distribution\n",
    "\n",
    "All of the concepts above apply to continuous random variables. Consider continuous random variables $X$ and $Y$ with the following joint pdf:\n",
    "\n",
    "$$\n",
    "f_{X,Y}(x,y)=k(x+y)\n",
    "$$\n",
    "\n",
    "where both $x$ and $y$ are bounded by the interval $[0,1]$. "
   ]
  },
  {
   "cell_type": "markdown",
   "metadata": {},
   "source": [
    "**_2.1_** Find the value of $k$ that makes $f$ a valid joint pdf. "
   ]
  },
  {
   "cell_type": "markdown",
   "metadata": {},
   "source": [
    "2.1 Set up the double integral and solve for k so that the integral from 0 to 1 = 1.\n",
    "$$\n",
    "P(0\\leq Y \\leq 1) = \\int_0^{1}\\int_0^{1} k(x+y) dx dy = 1\n",
    "$$\n",
    "Therefore, k = 1"
   ]
  },
  {
   "cell_type": "markdown",
   "metadata": {},
   "source": [
    "**_2.2_** Find $P(X<0.5,Y<0.5)$"
   ]
  },
  {
   "cell_type": "markdown",
   "metadata": {},
   "source": [
    "2.2 Solve for P with both conditions of X and Y given.\n",
    "$$\n",
    "[0.0125y + 0.25Y^2]\\bigg|_0^{0.5} = 1/16 + 1/16 = 0.0125\n",
    "$$"
   ]
  },
  {
   "cell_type": "markdown",
   "metadata": {},
   "source": [
    "**_2.3_** Find $f_X(x)$ and $f_Y(y)$, the marginal pdfs of $X$ and $Y$. \n",
    "\n",
    "**_2.4_** Find $E(X)$ and $E(Y)$. "
   ]
  },
  {
   "cell_type": "markdown",
   "metadata": {},
   "source": [
    "2.3 \n",
    "$$\n",
    "f_Y(y) = \\int_0^{1} (x+y) dx = [0.5x^2 + xy]\\bigg|_0^{1} = y + 0.5\n",
    "$$\n"
   ]
  },
  {
   "cell_type": "markdown",
   "metadata": {},
   "source": [
    "2.4 $E(X)$ and $E(Y)$\n",
    "$$\n",
    "E(X) = [x^3/3 + 0.25x^2]\\bigg|_0^{1} = 1/3 + 1/4 = 7/12\n",
    "$$\n",
    "\n",
    "$$\n",
    "E(Y) = [y^3/3 + 0.25y^2]\\bigg|_0^{1} = 1/3 + 1/4 = 7/12\n",
    "$$"
   ]
  },
  {
   "cell_type": "markdown",
   "metadata": {},
   "source": [
    "**_2.5_** Find $P(X>0.5\\vert Y\\leq 0.5)$. "
   ]
  },
  {
   "cell_type": "markdown",
   "metadata": {},
   "source": [
    "2.5\n",
    "$$\n",
    "\\int_0^{0.5} (0.75+y) dy = [0.75y + 0.5y^2]\\bigg|_0^{0.5} = ).375 + 0.125 = 0.5\n",
    "$$\n"
   ]
  },
  {
   "cell_type": "markdown",
   "metadata": {},
   "source": [
    "**_2.6_** Find the conditional distributions of $X|Y$ and $Y|X$. Recall that conditional distributions can be found by dividing the joint pdf by the relevant marginal pdf. \n",
    "\n",
    "**_2.7_** Find $E(X|Y)$ and $E(Y|X)$."
   ]
  },
  {
   "cell_type": "markdown",
   "metadata": {},
   "source": [
    "2.6\n",
    "$$\n",
    "P(Y|X = x) = f_{XY}(x,y)/f_X(x) = (x+y)/(x+0.5)\n",
    "$$\n"
   ]
  },
  {
   "cell_type": "markdown",
   "metadata": {},
   "source": [
    "$2.7$\n",
    "$$\n",
    "E(X|Y) = (3x + 2)/(6x + 3)\n",
    "$$\n"
   ]
  },
  {
   "cell_type": "markdown",
   "metadata": {},
   "source": [
    "**_2.8_** Are $X$ and $Y$ independent? "
   ]
  },
  {
   "cell_type": "markdown",
   "metadata": {},
   "source": [
    "$2.8$ No, they are not independent because the probability of selecting one changes as the probability of the other changes."
   ]
  },
  {
   "cell_type": "markdown",
   "metadata": {},
   "source": [
    "**_2.9_** What is $Cov(X,Y)$? "
   ]
  },
  {
   "cell_type": "markdown",
   "metadata": {},
   "source": [
    "$2.9$\n",
    "$$\n",
    "Cov(X,Y) = -1/144\n",
    "$$"
   ]
  }
 ],
 "metadata": {
  "kernelspec": {
   "display_name": "Python 3",
   "language": "python",
   "name": "python3"
  },
  "language_info": {
   "codemirror_mode": {
    "name": "ipython",
    "version": 3
   },
   "file_extension": ".py",
   "mimetype": "text/x-python",
   "name": "python",
   "nbconvert_exporter": "python",
   "pygments_lexer": "ipython3",
   "version": "3.6.5"
  }
 },
 "nbformat": 4,
 "nbformat_minor": 2
}
