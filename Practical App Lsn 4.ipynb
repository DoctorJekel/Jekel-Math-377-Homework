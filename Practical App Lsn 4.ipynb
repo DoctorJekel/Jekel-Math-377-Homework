{
 "cells": [
  {
   "cell_type": "code",
   "execution_count": 2,
   "metadata": {},
   "outputs": [
    {
     "name": "stdout",
     "output_type": "stream",
     "text": [
      "I am Andrew Jekel. I am 20 years old. I'm from Harrisburg, PA\n"
     ]
    }
   ],
   "source": [
    "name = 'Andrew Jekel'\n",
    "age = '20'\n",
    "home = 'Harrisburg, PA'\n",
    "phrase = 'I am ' + name + '. I am ' + age + \" years old. I'm from \" + home\n",
    "print(phrase)"
   ]
  },
  {
   "cell_type": "code",
   "execution_count": 3,
   "metadata": {},
   "outputs": [
    {
     "name": "stdout",
     "output_type": "stream",
     "text": [
      "andrew jekel\n"
     ]
    }
   ],
   "source": [
    "namelow = name.lower()\n",
    "print(namelow)"
   ]
  },
  {
   "cell_type": "code",
   "execution_count": 4,
   "metadata": {},
   "outputs": [
    {
     "name": "stdout",
     "output_type": "stream",
     "text": [
      "Andrew Jekel\n"
     ]
    }
   ],
   "source": [
    "name_proper= namelow.title()\n",
    "print(name_proper)"
   ]
  },
  {
   "cell_type": "code",
   "execution_count": 5,
   "metadata": {},
   "outputs": [
    {
     "data": {
      "text/plain": [
       "\"He is Andrew Jekel. He is 20 years old. He's from Harrisburg, PA\""
      ]
     },
     "execution_count": 5,
     "metadata": {},
     "output_type": "execute_result"
    }
   ],
   "source": [
    "phrase_new = phrase.replace('I am', \"He is\")\n",
    "phrase_new = phrase_new.replace(\"I'm\", \"He's\")\n",
    "phrase_new"
   ]
  },
  {
   "cell_type": "code",
   "execution_count": 6,
   "metadata": {},
   "outputs": [
    {
     "data": {
      "text/plain": [
       "True"
      ]
     },
     "execution_count": 6,
     "metadata": {},
     "output_type": "execute_result"
    }
   ],
   "source": [
    "length = len(phrase)\n",
    "number = int(age) + 40\n",
    "length > number"
   ]
  }
 ],
 "metadata": {
  "kernelspec": {
   "display_name": "Python 3",
   "language": "python",
   "name": "python3"
  },
  "language_info": {
   "codemirror_mode": {
    "name": "ipython",
    "version": 3
   },
   "file_extension": ".py",
   "mimetype": "text/x-python",
   "name": "python",
   "nbconvert_exporter": "python",
   "pygments_lexer": "ipython3",
   "version": "3.6.5"
  }
 },
 "nbformat": 4,
 "nbformat_minor": 2
}
