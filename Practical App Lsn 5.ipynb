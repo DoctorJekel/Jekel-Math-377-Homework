{
 "cells": [
  {
   "cell_type": "code",
   "execution_count": 1,
   "metadata": {},
   "outputs": [],
   "source": [
    "# Get NumPy set up.\n",
    "import numpy as np"
   ]
  },
  {
   "cell_type": "code",
   "execution_count": 3,
   "metadata": {},
   "outputs": [
    {
     "name": "stdout",
     "output_type": "stream",
     "text": [
      "['Andrew' 'Jekel' 'Pennsylvania' 'Green']\n",
      "['ANDREW' 'JEKEL' 'PENNSYLVANIA' 'GREEN']\n",
      "[1 0 2 0]\n"
     ]
    }
   ],
   "source": [
    "# Set up phrase with more personal information.\n",
    "num1 = np.array(['Andrew','Jekel','Pennsylvania','Green'])\n",
    "# Make the entire phrase uppercase so that 'A's can be searched through without searching upper and lower separately.\n",
    "num1a = np.char.upper(num1)\n",
    "# Count the 'A's\n",
    "num1b = np.char.count(num1a, 'A')\n",
    "print (num1)\n",
    "print (num1a)\n",
    "print (num1b)"
   ]
  },
  {
   "cell_type": "code",
   "execution_count": 6,
   "metadata": {},
   "outputs": [
    {
     "name": "stdout",
     "output_type": "stream",
     "text": [
      "[ 1  5  9 13 17 21 25 29 33 37 41]\n",
      "231\n",
      "7579867420125.0\n",
      "[0.         1.60943791 2.19722458 2.56494936 2.83321334 3.04452244\n",
      " 3.21887582 3.36729583 3.49650756 3.61091791 3.71357207]\n"
     ]
    }
   ],
   "source": [
    "# Make an array of every other odd number through 41.\n",
    "num2 = np.arange(1,42,4)\n",
    "# Sum the array.\n",
    "num2a1 = np.sum(num2)\n",
    "# Convert the array into floats for successful maths and find the product.\n",
    "num2f = num2.astype(float)\n",
    "num2a2 = np.prod(num2f)\n",
    "# Find the natural log of all numbers in the array.\n",
    "num2b = np.log(num2)\n",
    "print (num2)\n",
    "print (num2a1)\n",
    "print (num2a2)\n",
    "print (num2b)"
   ]
  }
 ],
 "metadata": {
  "kernelspec": {
   "display_name": "Python 3",
   "language": "python",
   "name": "python3"
  },
  "language_info": {
   "codemirror_mode": {
    "name": "ipython",
    "version": 3
   },
   "file_extension": ".py",
   "mimetype": "text/x-python",
   "name": "python",
   "nbconvert_exporter": "python",
   "pygments_lexer": "ipython3",
   "version": "3.6.5"
  }
 },
 "nbformat": 4,
 "nbformat_minor": 2
}
