{
 "cells": [
  {
   "cell_type": "code",
   "execution_count": 1,
   "metadata": {},
   "outputs": [],
   "source": [
    "from datascience import *\n",
    "import numpy as np\n",
    "from math import *\n",
    "from scipy import stats\n",
    "import matplotlib.pyplot as plt\n",
    "%matplotlib inline"
   ]
  },
  {
   "cell_type": "markdown",
   "metadata": {},
   "source": [
    "## Hypothesis Testing"
   ]
  },
  {
   "cell_type": "markdown",
   "metadata": {},
   "source": [
    "In Data8.2x, you have been using simulation to conduct hypothesis testing. Now that we have completed Data8.2x, this is a good time to take a step back and reflect on hypothesis testing. \n",
    "\n",
    "Every hypothesis test has roughly the same structure. The following 4 steps provide a rough outline:\n",
    "\n",
    "1) State the null and alternate hypotheses. Generally, the alternate hypothesis is what you are trying to show. Essentially, if you want to show a result, we assume the opposite is true and try to prove ourselves wrong. \n",
    "\n",
    "2) Determine/calculate a test statistic. See your book for a formal definition, but generally, the test statistic is any quantity that helps us evaluate our sample with respect to our null hypothesis. \n",
    "\n",
    "3) Determine distribution of test statistic and compute a $p$-value. If you have taken inferential statistics before, you likely computed a $z$ or $t$ statistic and used a calculator or table to compute a $p$-value. This is based on asymptotic theory of sample means/proportions. This is not the approach taken in Data8.2x. With better computing power, we can use simulation to obtain an empirical distribution of our test statistic under the null hypothesis. \n",
    "\n",
    "4) Conclude. For low $p$-value (generally below 0.05), we reject the null hypothesis. For high $p$-value, we fail to reject. Low $p$-value implies that our sample would be very unusual if the null hypothesis were actually true. Therefore, that is evidence that the null hypothesis is wrong. "
   ]
  },
  {
   "cell_type": "markdown",
   "metadata": {},
   "source": [
    "### Example\n",
    "\n",
    "Let's work through an example. Suppose that in the upcoming election, Referendum A is up for approval in Colorado. You suspect that in El Paso County, more than half of eligible voters support the referendum. You collect a random sample of 200 eligible voters in El Paso County and 115 of them express support. Is there evidence to conclude that supports your suspicion? "
   ]
  },
  {
   "cell_type": "markdown",
   "metadata": {},
   "source": [
    "#### Step 1: Hypothesis\n",
    "\n",
    "State the null and alternative hypotheses."
   ]
  },
  {
   "cell_type": "markdown",
   "metadata": {},
   "source": [
    "Null: The referendum is not supported by more than half of all eligible voters"
   ]
  },
  {
   "cell_type": "markdown",
   "metadata": {},
   "source": [
    "Alternate: Over half of eligible voters do support the referendum."
   ]
  },
  {
   "cell_type": "markdown",
   "metadata": {},
   "source": [
    "#### Step 2: Test Statistic"
   ]
  },
  {
   "cell_type": "markdown",
   "metadata": {},
   "source": [
    "Select a test statistic and compute that test statistic for the sample."
   ]
  },
  {
   "cell_type": "markdown",
   "metadata": {},
   "source": [
    "Difference in number of voters for the referendum and half of the number of voters. In this case, the test stat is equal to 15."
   ]
  },
  {
   "cell_type": "markdown",
   "metadata": {},
   "source": [
    "#### Step 3: $p$-value\n",
    "\n",
    "3a) If $H_0$ were true, what should the value of $\\hat{p}$ be close to? In other words, if in fact, half of eligible voters support the referendum, what value should your test statistic take? "
   ]
  },
  {
   "cell_type": "markdown",
   "metadata": {},
   "source": [
    "If $H_0$ were true, $\\hat{p}$ should be close to 0."
   ]
  },
  {
   "cell_type": "markdown",
   "metadata": {},
   "source": [
    "3b) In words (and in the context of this problem), describe what the $p$-value is. "
   ]
  },
  {
   "cell_type": "markdown",
   "metadata": {},
   "source": [
    "The $p$-value here is the % off the actual number is from the expected null value."
   ]
  },
  {
   "cell_type": "markdown",
   "metadata": {},
   "source": [
    "3c) Find the $p$-value directly and using simulation. Hint: the binomial distribution will be of use here. "
   ]
  },
  {
   "cell_type": "code",
   "execution_count": 33,
   "metadata": {},
   "outputs": [
    {
     "data": {
      "text/plain": [
       "array([0.455, 0.425, 0.535, ..., 0.45 , 0.535, 0.475])"
      ]
     },
     "execution_count": 33,
     "metadata": {},
     "output_type": "execute_result"
    }
   ],
   "source": [
    "#NOTE: I used several python boxes, so don't feel the need to put everything in this box.\n",
    "ts = []\n",
    "\n",
    "for i in np.arange(5000):\n",
    "    rs = stats.binom.rvs(200,[0.5,0.5])/200\n",
    "    ts = np.append(ts, rs)\n",
    "ts"
   ]
  },
  {
   "cell_type": "code",
   "execution_count": 34,
   "metadata": {},
   "outputs": [
    {
     "data": {
      "image/png": "[encoded data removed]",
      "text/plain": [
       "<Figure size 432x288 with 1 Axes>"
      ]
     },
     "metadata": {},
     "output_type": "display_data"
    }
   ],
   "source": [
    "plt.hist(ts)\n",
    "plt.show()"
   ]
  },
  {
   "cell_type": "code",
   "execution_count": 35,
   "metadata": {},
   "outputs": [
    {
     "data": {
      "text/plain": [
       "0.0214"
      ]
     },
     "execution_count": 35,
     "metadata": {},
     "output_type": "execute_result"
    }
   ],
   "source": [
    "np.mean(ts>=115/200)"
   ]
  },
  {
   "cell_type": "markdown",
   "metadata": {},
   "source": [
    "#### Step 4: Conclude\n",
    "\n",
    "What is your conclusion? Be sure to state your conclusion in the context of the problem."
   ]
  },
  {
   "cell_type": "markdown",
   "metadata": {},
   "source": [
    "Because the observed voters in favor of 115 is only in 2% of the null distribution, it is safe to deny the null hypothesis. It appears that over half the voters support the referendum."
   ]
  },
  {
   "cell_type": "markdown",
   "metadata": {},
   "source": [
    "## Confidence Intervals"
   ]
  },
  {
   "cell_type": "markdown",
   "metadata": {},
   "source": [
    "Construct and interpret a 95% confidence interval on $p$, the true proportion of eligible El Paso County voters who support the referendum. There are many ways to construct such an interval (bootstrap, the binomial distribution, asymptotically). Select one and implement. \n",
    "\n",
    "Also, compare your interval to the results of your hypothesis test. Does your interval contain the value 0.5? Why does that matter? "
   ]
  },
  {
   "cell_type": "markdown",
   "metadata": {},
   "source": [
    "0.5 is barely outside the range, but still outside. This means that the previous assumptions would not hold under these conditions."
   ]
  },
  {
   "cell_type": "code",
   "execution_count": 44,
   "metadata": {},
   "outputs": [
    {
     "data": {
      "text/plain": [
       "array([0.605, 0.6  , 0.575, 0.525, 0.585, 0.555, 0.61 , 0.595, 0.59 ,\n",
       "       0.57 , 0.625, 0.61 , 0.6  , 0.64 , 0.56 , 0.535, 0.625, 0.62 ,\n",
       "       0.58 , 0.56 , 0.555, 0.62 , 0.555, 0.645, 0.565, 0.545, 0.555,\n",
       "       0.585, 0.595, 0.515, 0.545, 0.59 , 0.61 , 0.555, 0.6  , 0.565,\n",
       "       0.56 , 0.695, 0.515, 0.645, 0.63 , 0.58 , 0.555, 0.595, 0.55 ,\n",
       "       0.565, 0.535, 0.57 , 0.585, 0.565, 0.615, 0.55 , 0.575, 0.605,\n",
       "       0.58 , 0.49 , 0.545, 0.56 , 0.545, 0.59 , 0.58 , 0.625, 0.595,\n",
       "       0.535, 0.575, 0.58 , 0.595, 0.54 , 0.58 , 0.66 , 0.62 , 0.58 ,\n",
       "       0.595, 0.5  , 0.525, 0.58 , 0.535, 0.6  , 0.525, 0.63 , 0.535,\n",
       "       0.535, 0.585, 0.59 , 0.605, 0.59 , 0.605, 0.59 , 0.575, 0.605,\n",
       "       0.54 , 0.525, 0.585, 0.57 , 0.56 , 0.575, 0.61 , 0.54 , 0.6  ,\n",
       "       0.55 , 0.64 , 0.66 , 0.545, 0.53 , 0.61 , 0.565, 0.52 , 0.525,\n",
       "       0.61 , 0.595, 0.595, 0.615, 0.51 , 0.59 , 0.57 , 0.575, 0.5  ,\n",
       "       0.55 , 0.585, 0.535, 0.56 , 0.47 , 0.55 , 0.585, 0.585, 0.56 ,\n",
       "       0.61 , 0.53 , 0.62 , 0.575, 0.54 , 0.53 , 0.585, 0.575, 0.555,\n",
       "       0.525, 0.595, 0.56 , 0.615, 0.58 , 0.545, 0.555, 0.54 , 0.595,\n",
       "       0.58 , 0.64 , 0.585, 0.57 , 0.5  , 0.6  , 0.55 , 0.54 , 0.59 ,\n",
       "       0.585, 0.525, 0.56 , 0.555, 0.575, 0.58 , 0.615, 0.53 , 0.59 ,\n",
       "       0.55 , 0.595, 0.585, 0.575, 0.615, 0.585, 0.6  , 0.58 , 0.58 ,\n",
       "       0.6  , 0.565, 0.58 , 0.54 , 0.605, 0.5  , 0.53 , 0.535, 0.595,\n",
       "       0.605, 0.545, 0.605, 0.505, 0.55 , 0.585, 0.56 , 0.615, 0.62 ,\n",
       "       0.56 , 0.56 , 0.59 , 0.635, 0.635, 0.54 , 0.55 , 0.54 , 0.625,\n",
       "       0.565, 0.52 , 0.54 , 0.54 , 0.535, 0.615, 0.545, 0.545, 0.61 ,\n",
       "       0.665, 0.585, 0.54 , 0.575, 0.555, 0.565, 0.545, 0.59 , 0.55 ,\n",
       "       0.6  , 0.57 , 0.54 , 0.605, 0.57 , 0.575, 0.605, 0.555, 0.49 ,\n",
       "       0.51 , 0.59 , 0.55 , 0.615, 0.595, 0.625, 0.56 , 0.505, 0.585,\n",
       "       0.62 , 0.61 , 0.585, 0.585, 0.595, 0.635, 0.525, 0.58 , 0.56 ,\n",
       "       0.62 , 0.645, 0.615, 0.63 , 0.615, 0.57 , 0.515, 0.605, 0.63 ,\n",
       "       0.6  , 0.555, 0.64 , 0.64 , 0.63 , 0.58 , 0.525, 0.545, 0.58 ,\n",
       "       0.585, 0.55 , 0.59 , 0.62 , 0.56 , 0.605, 0.56 , 0.575, 0.635,\n",
       "       0.59 , 0.545, 0.56 , 0.535, 0.525, 0.545, 0.585, 0.57 , 0.605,\n",
       "       0.515, 0.64 , 0.635, 0.625, 0.575, 0.58 , 0.62 , 0.575, 0.555,\n",
       "       0.585, 0.585, 0.58 , 0.575, 0.56 , 0.525, 0.545, 0.61 , 0.6  ,\n",
       "       0.535, 0.595, 0.59 , 0.605, 0.6  , 0.52 , 0.6  , 0.6  , 0.525,\n",
       "       0.56 , 0.595, 0.59 , 0.565, 0.515, 0.59 , 0.57 , 0.555, 0.515,\n",
       "       0.625, 0.59 , 0.6  , 0.55 , 0.575, 0.61 , 0.595, 0.65 , 0.6  ,\n",
       "       0.57 , 0.585, 0.625, 0.58 , 0.6  , 0.555, 0.57 , 0.595, 0.54 ,\n",
       "       0.62 , 0.535, 0.545, 0.535, 0.595, 0.625, 0.57 , 0.63 , 0.595,\n",
       "       0.575, 0.605, 0.565, 0.55 , 0.56 , 0.57 , 0.55 , 0.625, 0.535,\n",
       "       0.625, 0.615, 0.565, 0.56 , 0.55 , 0.575, 0.6  , 0.56 , 0.555,\n",
       "       0.51 , 0.55 , 0.565, 0.595, 0.525, 0.65 , 0.565, 0.675, 0.555,\n",
       "       0.58 , 0.64 , 0.575, 0.59 , 0.62 , 0.615, 0.59 , 0.515, 0.555,\n",
       "       0.57 , 0.58 , 0.61 , 0.59 , 0.57 , 0.475, 0.555, 0.615, 0.55 ,\n",
       "       0.62 , 0.57 , 0.59 , 0.58 , 0.53 , 0.61 , 0.595, 0.565, 0.585,\n",
       "       0.535, 0.55 , 0.575, 0.63 , 0.635, 0.55 , 0.6  , 0.53 , 0.57 ,\n",
       "       0.565, 0.59 , 0.56 , 0.56 , 0.575, 0.525, 0.545, 0.565, 0.52 ,\n",
       "       0.64 , 0.55 , 0.525, 0.52 , 0.62 , 0.56 , 0.59 , 0.57 , 0.585,\n",
       "       0.6  , 0.625, 0.555, 0.615, 0.605, 0.615, 0.605, 0.57 , 0.58 ,\n",
       "       0.585, 0.58 , 0.55 , 0.63 , 0.505, 0.615, 0.54 , 0.555, 0.57 ,\n",
       "       0.515, 0.615, 0.5  , 0.585, 0.595, 0.565, 0.595, 0.635, 0.62 ,\n",
       "       0.62 , 0.55 , 0.55 , 0.615, 0.52 , 0.615, 0.57 , 0.635, 0.55 ,\n",
       "       0.55 , 0.51 , 0.61 , 0.635, 0.565, 0.615, 0.52 , 0.58 , 0.555,\n",
       "       0.535, 0.68 , 0.53 , 0.57 , 0.57 , 0.595, 0.57 , 0.61 , 0.625,\n",
       "       0.61 , 0.625, 0.565, 0.615, 0.605, 0.535, 0.55 , 0.585, 0.57 ,\n",
       "       0.605, 0.585, 0.535, 0.56 , 0.61 , 0.575, 0.615, 0.585, 0.545,\n",
       "       0.6  , 0.59 , 0.61 , 0.58 , 0.58 , 0.57 , 0.545, 0.595, 0.59 ,\n",
       "       0.645, 0.58 , 0.595, 0.595, 0.57 , 0.56 , 0.585, 0.575, 0.565,\n",
       "       0.555, 0.6  , 0.595, 0.525, 0.57 , 0.59 , 0.6  , 0.57 , 0.57 ,\n",
       "       0.52 , 0.555, 0.6  , 0.58 , 0.525, 0.555, 0.615, 0.53 , 0.6  ,\n",
       "       0.58 , 0.535, 0.605, 0.58 , 0.51 , 0.565, 0.545, 0.555, 0.57 ,\n",
       "       0.62 , 0.495, 0.56 , 0.5  , 0.57 , 0.565, 0.585, 0.615, 0.55 ,\n",
       "       0.545, 0.565, 0.54 , 0.575, 0.55 , 0.54 , 0.575, 0.635, 0.585,\n",
       "       0.58 , 0.55 , 0.505, 0.62 , 0.635, 0.625, 0.525, 0.6  , 0.585,\n",
       "       0.605, 0.645, 0.535, 0.55 , 0.565, 0.535, 0.585, 0.53 , 0.57 ,\n",
       "       0.6  , 0.59 , 0.52 , 0.615, 0.585, 0.625, 0.545, 0.63 , 0.575,\n",
       "       0.57 , 0.575, 0.565, 0.535, 0.54 , 0.585, 0.615, 0.525, 0.575,\n",
       "       0.625, 0.53 , 0.56 , 0.59 , 0.605, 0.535, 0.585, 0.605, 0.62 ,\n",
       "       0.575, 0.595, 0.52 , 0.59 , 0.59 , 0.595, 0.525, 0.59 , 0.545,\n",
       "       0.58 , 0.57 , 0.535, 0.605, 0.575, 0.565, 0.585, 0.555, 0.61 ,\n",
       "       0.67 , 0.615, 0.58 , 0.49 , 0.6  , 0.6  , 0.595, 0.52 , 0.615,\n",
       "       0.505, 0.55 , 0.535, 0.595, 0.535, 0.595, 0.58 , 0.565, 0.555,\n",
       "       0.535, 0.595, 0.57 , 0.595, 0.595, 0.565, 0.595, 0.55 , 0.62 ,\n",
       "       0.545, 0.54 , 0.635, 0.585, 0.58 , 0.585, 0.555, 0.635, 0.59 ,\n",
       "       0.555, 0.62 , 0.555, 0.535, 0.535, 0.56 , 0.535, 0.605, 0.625,\n",
       "       0.595, 0.595, 0.58 , 0.555, 0.575, 0.575, 0.555, 0.59 , 0.555,\n",
       "       0.595, 0.505, 0.645, 0.49 , 0.6  , 0.58 , 0.585, 0.54 , 0.575,\n",
       "       0.61 , 0.55 , 0.535, 0.56 , 0.525, 0.57 , 0.575, 0.535, 0.585,\n",
       "       0.61 , 0.59 , 0.585, 0.635, 0.565, 0.605, 0.62 , 0.575, 0.605,\n",
       "       0.55 , 0.575, 0.54 , 0.59 , 0.535, 0.56 , 0.63 , 0.485, 0.64 ,\n",
       "       0.57 , 0.52 , 0.595, 0.6  , 0.585, 0.635, 0.57 , 0.585, 0.545,\n",
       "       0.565, 0.545, 0.59 , 0.55 , 0.625, 0.645, 0.61 , 0.61 , 0.555,\n",
       "       0.575, 0.605, 0.605, 0.62 , 0.555, 0.575, 0.59 , 0.575, 0.55 ,\n",
       "       0.57 , 0.55 , 0.53 , 0.615, 0.585, 0.55 , 0.615, 0.525, 0.675,\n",
       "       0.58 , 0.59 , 0.61 , 0.55 , 0.565, 0.59 , 0.555, 0.595, 0.615,\n",
       "       0.6  , 0.59 , 0.56 , 0.6  , 0.575, 0.585, 0.54 , 0.585, 0.565,\n",
       "       0.58 , 0.6  , 0.59 , 0.6  , 0.575, 0.57 , 0.59 , 0.57 , 0.535,\n",
       "       0.575, 0.56 , 0.515, 0.59 , 0.63 , 0.63 , 0.56 , 0.54 , 0.54 ,\n",
       "       0.575, 0.505, 0.54 , 0.555, 0.62 , 0.5  , 0.535, 0.545, 0.59 ,\n",
       "       0.555, 0.635, 0.61 , 0.605, 0.6  , 0.57 , 0.535, 0.605, 0.595,\n",
       "       0.545, 0.58 , 0.52 , 0.565, 0.58 , 0.54 , 0.605, 0.525, 0.625,\n",
       "       0.685, 0.515, 0.56 , 0.565, 0.59 , 0.59 , 0.565, 0.49 , 0.585,\n",
       "       0.52 , 0.55 , 0.58 , 0.585, 0.585, 0.63 , 0.58 , 0.58 , 0.56 ,\n",
       "       0.575, 0.635, 0.565, 0.615, 0.57 , 0.565, 0.535, 0.605, 0.535,\n",
       "       0.58 , 0.53 , 0.585, 0.61 , 0.585, 0.575, 0.595, 0.525, 0.54 ,\n",
       "       0.615, 0.59 , 0.53 , 0.525, 0.565, 0.625, 0.585, 0.615, 0.59 ,\n",
       "       0.59 , 0.53 , 0.605, 0.56 , 0.575, 0.565, 0.55 , 0.6  , 0.55 ,\n",
       "       0.565, 0.525, 0.515, 0.58 , 0.615, 0.61 , 0.57 , 0.59 , 0.64 ,\n",
       "       0.605, 0.52 , 0.565, 0.595, 0.575, 0.555, 0.62 , 0.575, 0.53 ,\n",
       "       0.615, 0.565, 0.595, 0.645, 0.6  , 0.59 , 0.595, 0.5  , 0.515,\n",
       "       0.575, 0.535, 0.585, 0.61 , 0.61 , 0.56 , 0.54 , 0.585, 0.58 ,\n",
       "       0.565, 0.515, 0.6  , 0.505, 0.54 , 0.595, 0.625, 0.54 , 0.585,\n",
       "       0.545, 0.575, 0.575, 0.5  , 0.59 , 0.56 , 0.59 , 0.605, 0.635,\n",
       "       0.52 , 0.49 , 0.575, 0.53 , 0.61 , 0.56 , 0.605, 0.56 , 0.615,\n",
       "       0.565, 0.545, 0.61 , 0.58 , 0.62 , 0.65 , 0.61 , 0.575, 0.575,\n",
       "       0.48 , 0.63 , 0.565, 0.535, 0.61 , 0.61 , 0.585, 0.52 , 0.565,\n",
       "       0.63 , 0.57 , 0.61 , 0.565, 0.55 , 0.595, 0.61 , 0.575, 0.575,\n",
       "       0.605, 0.57 , 0.605, 0.585, 0.53 , 0.58 , 0.575, 0.56 , 0.56 ,\n",
       "       0.58 , 0.53 , 0.6  , 0.59 , 0.57 , 0.585, 0.6  , 0.615, 0.6  ,\n",
       "       0.575, 0.54 , 0.56 , 0.605, 0.6  , 0.525, 0.51 , 0.595, 0.58 ,\n",
       "       0.615, 0.64 , 0.58 , 0.595, 0.54 , 0.61 , 0.585, 0.59 , 0.605,\n",
       "       0.52 , 0.545, 0.54 , 0.605, 0.605, 0.495, 0.535, 0.54 , 0.595,\n",
       "       0.62 ])"
      ]
     },
     "execution_count": 44,
     "metadata": {},
     "output_type": "execute_result"
    }
   ],
   "source": [
    "binom_method = stats.binom.rvs(200, 115/200, size=1000)/200\n",
    "binom_method"
   ]
  },
  {
   "cell_type": "code",
   "execution_count": 45,
   "metadata": {},
   "outputs": [
    {
     "name": "stdout",
     "output_type": "stream",
     "text": [
      "Middle 95% of bootstrap estimates: [0.505000, 0.640000]\n"
     ]
    }
   ],
   "source": [
    "left_end = percentile(2.5, binom_method)\n",
    "right_end = percentile(97.5, binom_method)\n",
    "print(\"Middle 95% of bootstrap estimates: [{:f}, {:f}]\".format(left_end, right_end))"
   ]
  }
 ],
 "metadata": {
  "kernelspec": {
   "display_name": "Python 3",
   "language": "python",
   "name": "python3"
  },
  "language_info": {
   "codemirror_mode": {
    "name": "ipython",
    "version": 3
   },
   "file_extension": ".py",
   "mimetype": "text/x-python",
   "name": "python",
   "nbconvert_exporter": "python",
   "pygments_lexer": "ipython3",
   "version": "3.6.5"
  }
 },
 "nbformat": 4,
 "nbformat_minor": 2
}
